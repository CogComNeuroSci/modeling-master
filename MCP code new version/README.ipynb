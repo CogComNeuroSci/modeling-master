{
 "cells": [
  {
   "cell_type": "markdown",
   "metadata": {},
   "source": [
    "# MCP (2020-2019)\n",
    "\n",
    "[![Maintained](https://img.shields.io/badge/maintained-yes-success)](https://img.shields.io/badge/maintained-yes-success)\n",
    "[![Contributors](https://img.shields.io/badge/contributors-3-blue)](https://img.shields.io/badge/contributors-3-blue)"
   ]
  },
  {
   "cell_type": "markdown",
   "metadata": {},
   "source": [
    "## Overview\n",
    "\n",
    "This subfolder contains the code used for the MCP course (1 Master Exp. Psych. Ghent University) for AY 2020-2021.\n",
    "Note: this folder is maintained."
   ]
  },
  {
   "cell_type": "markdown",
   "metadata": {},
   "source": [
    "## Organization\n",
    "\n",
    "The material is organized in line with the chapters in the book \"Introduction to Modelling Cognitive Processes\" by Tom Verguts. Note that each folder contains code that is used in the theoretical course. There are no scripts included that were used for the practical sessions, or the practical tests. All the practical session code and assignments can be found on the [Ghent University online environment](https://ufora.ugent.be/d2l/home).\n",
    "\n",
    "In contrast with the previous academic years, this course is taught using ```TensorFlow 1```. Hence, we instructed to create a specific environment to run all the code available in this course. More information can be found immediately below."
   ]
  },
  {
   "cell_type": "markdown",
   "metadata": {},
   "source": [
    "## Programming environment   \n",
    "\n",
    "The most important softwares, and their versions, are:\n",
    "\n",
    "- python 3 (*v. 3.7.8*)\n",
    "- anaconda (*v. 4.9.1*)\n",
    "- TensorFlow 1 (*v. 1.14.0*)\n",
    "\n",
    "All the required modules are listed in 'requirements.txt' (root folder)   \n",
    "Note that this installs TensorFlow 1!   \n",
    "You can install from this list by running ```conda create --name <name> --file requirements.txt``` in Anaconda prompt.   \n",
    "\n",
    "Install any missing packages using ```conda install [packageName]```"
   ]
  },
  {
   "cell_type": "markdown",
   "metadata": {},
   "source": [
    "## Contact\n",
    "\n",
    "- prof. Tom Verguts\n",
    "    * [mail](mailto:Tom.Verguts@UGent.be)\n",
    "    * [web entry](https://www.cogcomneurosci.com/about/#principal-investigator)\n",
    "- dr. Mehdi Senoussi\n",
    "    * [mail](mailto:Mehdi.Senoussi@UGent.be)\n",
    "    * [web entry](https://www.cogcomneurosci.com/about/#mehdi-senoussi)\n",
    "- Pieter Huycke  \n",
    "    * [mail](mailto:Pieter.Huycke@UGent.be)\n",
    "    * [web entry](https://www.cogcomneurosci.com/about/#pieter-huycke)\n",
    "\n",
    "[Lab website]: https://cogcomneurosci.com/"
   ]
  },
  {
   "cell_type": "markdown",
   "metadata": {},
   "source": [
    "**Last edit: 11-12-2020**"
   ]
  }
 ],
 "metadata": {
  "kernelspec": {
   "display_name": "Python 3",
   "language": "python",
   "name": "python3"
  },
  "language_info": {
   "codemirror_mode": {
    "name": "ipython",
    "version": 3
   },
   "file_extension": ".py",
   "mimetype": "text/x-python",
   "name": "python",
   "nbconvert_exporter": "python",
   "pygments_lexer": "ipython3",
   "version": "3.7.4"
  }
 },
 "nbformat": 4,
 "nbformat_minor": 2
}
