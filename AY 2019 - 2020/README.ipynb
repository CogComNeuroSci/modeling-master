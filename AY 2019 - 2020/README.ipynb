{
 "cells": [
  {
   "cell_type": "markdown",
   "metadata": {},
   "source": [
    "# MCP (2019-2020)\n",
    "\n",
    "[![Maintained](https://img.shields.io/badge/archived-january%202020-success)](https://img.shields.io/badge/archived-january%202020-success)\n",
    "[![Contributors](https://img.shields.io/badge/contributors-3-blue)](https://img.shields.io/badge/contributors-3-blue)"
   ]
  },
  {
   "cell_type": "markdown",
   "metadata": {},
   "source": [
    "## Overview\n",
    "\n",
    "This subfolder contains the code used for the MCP course (1 Master Exp. Psych. Ghent University) for AY 2019-2020.\n",
    "Note: this folder is *not* maintained."
   ]
  },
  {
   "cell_type": "markdown",
   "metadata": {},
   "source": [
    "## Organization\n",
    "\n",
    "The material is organized by lessons. This means that **multiple** MCP handbook chapters can be covered in a single class. For example: in lesson 07 material from chapters 5 and 11 is covered. Note that the even lessons (2, 4, ...) are practical sessions, while the odd lessons are theory sessions. Test 1 can be found in lesson 6, test 2 in lesson 12. In line with the previous academic year, this course uses ```scikit-learn``` to teach the students how to model. "
   ]
  },
  {
   "cell_type": "markdown",
   "metadata": {},
   "source": [
    "## Programming environment   \n",
    "\n",
    "When last tested, all code could be executed using:\n",
    "\n",
    "- python 3 (*v. 3.7.4*)\n",
    "- anaconda (*v. 4.9.1*)\n",
    "    \n",
    "Install missing packages (e.g. both ```sklearn``` and ```scipy``` were needed for this course) using ```conda install [packageName]```"
   ]
  },
  {
   "cell_type": "markdown",
   "metadata": {},
   "source": [
    "## Contact\n",
    "\n",
    "Responsible for this course:\n",
    "\n",
    "- prof. Tom Verguts\n",
    "    * [mail](mailto:Tom.Verguts@UGent.be)\n",
    "    * [web entry](https://www.cogcomneurosci.com/about/#principal-investigator)\n",
    "- dr. Mehdi Senoussi\n",
    "    * [mail](mailto:Mehdi.Senoussi@UGent.be)\n",
    "    * [web entry](https://www.cogcomneurosci.com/about/#mehdi-senoussi)\n",
    "- Pieter Huycke  \n",
    "    * [mail](mailto:Pieter.Huycke@UGent.be)\n",
    "    * [web entry](https://www.cogcomneurosci.com/about/#pieter-huycke)\n",
    "\n",
    "[Labsite]: https://cogcomneurosci.com/"
   ]
  },
  {
   "cell_type": "markdown",
   "metadata": {},
   "source": [
    "**Last edit: 11-12-2020**"
   ]
  }
 ],
 "metadata": {
  "kernelspec": {
   "display_name": "Python 3",
   "language": "python",
   "name": "python3"
  },
  "language_info": {
   "codemirror_mode": {
    "name": "ipython",
    "version": 3
   },
   "file_extension": ".py",
   "mimetype": "text/x-python",
   "name": "python",
   "nbconvert_exporter": "python",
   "pygments_lexer": "ipython3",
   "version": "3.7.4"
  }
 },
 "nbformat": 4,
 "nbformat_minor": 2
}
