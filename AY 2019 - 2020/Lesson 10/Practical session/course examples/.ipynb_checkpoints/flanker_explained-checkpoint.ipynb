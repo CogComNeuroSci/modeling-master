{
 "cells": [
  {
   "cell_type": "markdown",
   "metadata": {
    "slideshow": {
     "slide_type": "slide"
    }
   },
   "source": [
    "# Modelling of Cognitive Processes\n",
    "## Exercise: the Flanker task\n",
    "---\n",
    "08/12/2019   \n",
    "Pieter Huycke   "
   ]
  },
  {
   "cell_type": "markdown",
   "metadata": {
    "slideshow": {
     "slide_type": "subslide"
    }
   },
   "source": [
    "## A bit of explanation\n",
    "\n",
    "In the next slides, we will explain the setup of our solution script for the Flanker task as some choices might not seem intuitive for everyone.   \n",
    "We handle the code per block (remember that code blocks are marked by a ```#%%``` symbol), and explain for each block what happens, and why it happens."
   ]
  },
  {
   "cell_type": "code",
   "execution_count": 1,
   "metadata": {
    "slideshow": {
     "slide_type": "subslide"
    }
   },
   "outputs": [],
   "source": [
    "# import: general and scikit-learn specific\n",
    "import numpy as np\n",
    "\n",
    "from sklearn.linear_model    import Perceptron\n",
    "from sklearn.model_selection import train_test_split"
   ]
  },
  {
   "cell_type": "markdown",
   "metadata": {
    "slideshow": {
     "slide_type": "subslide"
    }
   },
   "source": [
    "## The code explained\n",
    "\n",
    "In this code block, we import some of the relevant modules / submodules that we need in our script.   \n",
    "As most of you probably already knew this, we move on to the next code block."
   ]
  },
  {
   "cell_type": "code",
   "execution_count": 2,
   "metadata": {
    "slideshow": {
     "slide_type": "subslide"
    }
   },
   "outputs": [],
   "source": [
    "'''\n",
    "* coding * \n",
    "    - Unit 1: target direction  ([0, 1] = >)\n",
    "    - Unit 2: prime direction   ([0, 1] = >>>>)\n",
    "Mind that the coding does not impact your model's performance as long as one\n",
    "is using a consistent coding scheme\n",
    "'''\n",
    "\n",
    "# define the input patterns\n",
    "target_in = np.array([[0, 1, 0, 1],      # target: > / flanker: >>>>\n",
    "                      [1, 0, 1, 0],      # target: < / flanker: <<<<\n",
    "                      [0, 1, 1, 0],      # target: > / flanker: <<<<\n",
    "                      [1, 0, 0, 1]])     # target: < / flanker: >>>>\n",
    "flanker_in = target_in                   # same targets and flankers\n",
    "\n",
    "# define the associated outputs\n",
    "target_out = np.array([ [1],             # response: RIGHT\n",
    "                       [-1],             # response: LEFT\n",
    "                        [1],             # response: RIGHT\n",
    "                       [-1]])            # response: LEFT\n",
    "flanker_out = np.array([[1],             # response: RIGHT\n",
    "                       [-1],             # response: LEFT\n",
    "                       [-1],             # response: LEFT\n",
    "                        [1]])            # response: RIGHT"
   ]
  },
  {
   "cell_type": "markdown",
   "metadata": {
    "slideshow": {
     "slide_type": "subslide"
    }
   },
   "source": [
    "## The code explained\n",
    "\n",
    "In this block, we define the input units of our model.   \n",
    "Mind that we have 4 possible inputs for this specific model:\n",
    "- Target: < / flanker: >>>>\n",
    "- Target: < / flanker: <<<<\n",
    "- Target: > / flanker: <<<<\n",
    "- Target: < / flanker: >>>>\n"
   ]
  },
  {
   "cell_type": "code",
   "execution_count": null,
   "metadata": {
    "slideshow": {
     "slide_type": "subslide"
    }
   },
   "outputs": [],
   "source": [
    "# repeat the data a bit and fix the dimensions\n",
    "in1 = np.repeat(target_in,  \n",
    "                90, \n",
    "                axis = 0)\n",
    "in2 = np.repeat(flanker_in,  \n",
    "                10, \n",
    "                axis = 0)\n",
    "\n",
    "out1 = np.repeat(target_out, \n",
    "                 90, \n",
    "                 axis = 0)\n",
    "out2 = np.repeat(flanker_out, \n",
    "                 10, \n",
    "                 axis = 0)\n",
    "\n",
    "# stack all the data together\n",
    "X = np.vstack((in1, in2))\n",
    "y = np.vstack((out1, out2))\n",
    "\n",
    "# reshape y\n",
    "y = y.reshape(len(y),)\n",
    "\n",
    "del target_in, target_out, flanker_in, flanker_out, in1, in2, out1, out2"
   ]
  }
 ],
 "metadata": {
  "celltoolbar": "Slideshow",
  "kernelspec": {
   "display_name": "Python 3",
   "language": "python",
   "name": "python3"
  },
  "language_info": {
   "codemirror_mode": {
    "name": "ipython",
    "version": 3
   },
   "file_extension": ".py",
   "mimetype": "text/x-python",
   "name": "python",
   "nbconvert_exporter": "python",
   "pygments_lexer": "ipython3",
   "version": "3.7.4"
  }
 },
 "nbformat": 4,
 "nbformat_minor": 2
}
