{
 "cells": [
  {
   "cell_type": "markdown",
   "metadata": {
    "slideshow": {
     "slide_type": "slide"
    }
   },
   "source": [
    "# Modelling of Cognitive Processes\n",
    "---\n",
    "Lesson 06   \n",
    "29/10/2019   \n",
    "Pieter Huycke   "
   ]
  },
  {
   "cell_type": "markdown",
   "metadata": {
    "slideshow": {
     "slide_type": "slide"
    }
   },
   "source": [
    "# Overview\n",
    "\n",
    "## Theoretical\n",
    "- Delta learning: quick recap\n",
    "- Activation functions: quick recap\n",
    "\n",
    "## Practical\n",
    "1. Florence + the machine: a Delta learning tutorial\n",
    "2. Delta learning: DIY with the iris dataset\n",
    "3. Different patterns, equal learning?"
   ]
  },
  {
   "cell_type": "markdown",
   "metadata": {
    "slideshow": {
     "slide_type": "slide"
    }
   },
   "source": [
    "# 1. Florence + the machine: a Delta learning tutorial"
   ]
  },
  {
   "cell_type": "markdown",
   "metadata": {
    "slideshow": {
     "slide_type": "subslide"
    }
   },
   "source": [
    "## The unknown artist\n",
    "\n",
    "Imagine you are listening to the radio, and suddenly a song comes up that you really like.   \n",
    "After the song, the radio host mentions the song 'Stand by me' by 'Florence + the machine'.   \n",
    "   \n",
    "You decide to search them online, and you find the following information..."
   ]
  },
  {
   "cell_type": "markdown",
   "metadata": {
    "slideshow": {
     "slide_type": "subslide"
    }
   },
   "source": [
    "## Florence + the machine\n",
    "\n",
    "- English indie rock band\n",
    "- Formed in London in 2007\n",
    "- Lead singer: Florence Welch ⬇️\n",
    "\n",
    "![Image of Florence](https://media.pitchfork.com/photos/5cbd2918ef5bbe6682d33c89/2:1/w_790/Florence-and-the-Machine.jpg)"
   ]
  },
  {
   "cell_type": "markdown",
   "metadata": {
    "slideshow": {
     "slide_type": "subslide"
    }
   },
   "source": [
    "## Florence: the modelling aproach\n",
    "\n",
    "When you now hear _Stand by me_ again, you will be able to conjure up Florence's picture in your mind.   \n",
    "In MCP terms: you learned an association between two items.   \n",
    "Please note that encountering one item (the song) will result in the second item (the mental picture of Florence you saw online).\n",
    "\n",
    "We have already seen these dynamics in the cat-dog model..."
   ]
  },
  {
   "cell_type": "markdown",
   "metadata": {
    "slideshow": {
     "slide_type": "subslide"
    }
   },
   "source": [
    "## Florence: comparison with the cat-dog model\n",
    "\n",
    "**Model input**\n",
    "- has a picture on Facebook\n",
    "- has 4 legs\n",
    "- does not bite visitors\n",
    "\n",
    "**Model output**   \n",
    "![cat image](https://images2.minutemediacdn.com/image/upload/c_crop,h_1193,w_2121,x_0,y_64/f_auto,q_auto,w_1100/v1565279671/shape/mentalfloss/578211-gettyimages-542930526.jpg)"
   ]
  },
  {
   "cell_type": "markdown",
   "metadata": {
    "slideshow": {
     "slide_type": "subslide"
    }
   },
   "source": [
    "## Florence: the modelling aproach\n",
    "\n",
    "Mind what happened:\n",
    "- First, the song was not associated with mental images\n",
    "- After the Google search, we could picture the singer of this song\n",
    "\n",
    "How?   \n",
    "**Learning**\n",
    "\n",
    "Now, we will represent this learning process in Python 3.   "
   ]
  },
  {
   "cell_type": "markdown",
   "metadata": {
    "slideshow": {
     "slide_type": "subslide"
    }
   },
   "source": [
    "## Florence: the modelling aproach\n",
    "\n",
    "Our action plan:\n",
    "\n",
    "1. Open Spyder 🕸️\n",
    "2. "
   ]
  },
  {
   "cell_type": "code",
   "execution_count": 2,
   "metadata": {
    "slideshow": {
     "slide_type": "subslide"
    }
   },
   "outputs": [
    {
     "name": "stdout",
     "output_type": "stream",
     "text": [
      "Using zeros to fill the array...\n",
      "\n",
      "Our original weight matrix, for now filled with zeros:\n",
      " [[0. 0. 0. 0. 0. 0.]\n",
      " [0. 0. 0. 0. 0. 0.]\n",
      " [0. 0. 0. 0. 0. 0.]\n",
      " [0. 0. 0. 0. 0. 0.]]\n"
     ]
    }
   ],
   "source": [
    "# import modules\n",
    "import ch0_delta_learning as delta_learning\n",
    "import numpy              as np\n",
    "\n",
    "# alter print options for numpy: suppress scientific printing \n",
    "np.set_printoptions(suppress = True)\n",
    "\n",
    "image_florence   = [.99, .01, .99, .01, .99, .01]     # define image pattern\n",
    "song_stand_by_me = [.99, .99, .01, .01]               # define song pattern\n",
    "\n",
    "# define a weight matrix exclusively filled with zeros\n",
    "weight_matrix = delta_learning.initialise_weights(image_florence, \n",
    "                                                  song_stand_by_me, \n",
    "                                                  zeros      = True,\n",
    "                                                  predefined = False, \n",
    "                                                  verbose    = True)\n",
    "\n",
    "# show me what you got \n",
    "print('Our original weight matrix, for now filled with zeros:\\n', \n",
    "      weight_matrix)\n",
    "\n",
    "# make a copy of the original weight matrix\n",
    "original_weight_matrix = np.copy(weight_matrix)"
   ]
  },
  {
   "cell_type": "markdown",
   "metadata": {
    "slideshow": {
     "slide_type": "slide"
    }
   },
   "source": [
    "# 2. Delta learning: DIY with the iris dataset"
   ]
  },
  {
   "cell_type": "markdown",
   "metadata": {
    "slideshow": {
     "slide_type": "slide"
    }
   },
   "source": [
    "# 3. Different patterns, equal learning?"
   ]
  }
 ],
 "metadata": {
  "celltoolbar": "Slideshow",
  "kernelspec": {
   "display_name": "Python 3",
   "language": "python",
   "name": "python3"
  },
  "language_info": {
   "codemirror_mode": {
    "name": "ipython",
    "version": 3
   },
   "file_extension": ".py",
   "mimetype": "text/x-python",
   "name": "python",
   "nbconvert_exporter": "python",
   "pygments_lexer": "ipython3",
   "version": "3.7.3"
  }
 },
 "nbformat": 4,
 "nbformat_minor": 2
}
