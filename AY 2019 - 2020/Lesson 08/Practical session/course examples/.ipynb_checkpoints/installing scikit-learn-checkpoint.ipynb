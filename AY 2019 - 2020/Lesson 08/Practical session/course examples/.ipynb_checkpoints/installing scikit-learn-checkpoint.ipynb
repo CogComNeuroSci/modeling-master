{
 "cells": [
  {
   "cell_type": "markdown",
   "metadata": {},
   "source": [
    "## How to install $scikit-learn$ ?\n",
    "\n",
    "You can install $scikit-learn$ in your Anaconda environment using the following steps:\n",
    "1. Check if $scikit-learn$ is already installed by executing the following in your __Spyder console__\n",
    "```python\n",
    "import sklearn\n",
    "```\n",
    "2. If this throws no errors, you can stop reading\n",
    "3. If you are here, this means that you should close spyder, and open an __Anaconda prompt__\n",
    "4. In the prompt, type the following:\n",
    "```bash\n",
    "conda install -c anaconda scikit-learn\n",
    "```   \n",
    "5. Now type\n",
    "```bash\n",
    "spyder\n",
    "```\n",
    "6. In the new instance of Spyder, try _step 1_ and _step 2_ again\n",
    "\n",
    "<font color='red'>If this did not work out for you, ask a question on the forum (in the software section).</font>"
   ]
  },
  {
   "cell_type": "markdown",
   "metadata": {},
   "source": [
    "## How to open Anaconda prompt ?\n",
    "\n",
    "__Windows users__\n",
    "\n",
    "1. Press the Windows key\n",
    "2. Type in ```Anaconda prompt```\n",
    "3. An app called 'Anaconda prompt' should appear\n",
    "4. Open it\n",
    "5. If you see something resembling the following, you completed _step 3_\n",
    "```bash\n",
    "(base) C:\\Users\\USERNAME\n",
    "```\n",
    "\n",
    "__Mac OS / Unix__\n",
    "1. Open a terminal\n",
    "    * Mac OS: Applications > Utilities > Terminal\n",
    "    * Unix Ubuntu: ```Ctrl``` + ```Alt``` + ```t```\n",
    "2. If your terminal contains the ```(base)``` prefix, you completed _step 3_\n",
    "\n",
    "<font color='red'>If this did not work out for you, ask a question on the forum (in the software section).</font>"
   ]
  }
 ],
 "metadata": {
  "kernelspec": {
   "display_name": "Python 3",
   "language": "python",
   "name": "python3"
  },
  "language_info": {
   "codemirror_mode": {
    "name": "ipython",
    "version": 3
   },
   "file_extension": ".py",
   "mimetype": "text/x-python",
   "name": "python",
   "nbconvert_exporter": "python",
   "pygments_lexer": "ipython3",
   "version": "3.7.5"
  }
 },
 "nbformat": 4,
 "nbformat_minor": 2
}
