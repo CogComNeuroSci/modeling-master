{
 "cells": [
  {
   "cell_type": "markdown",
   "metadata": {},
   "source": [
    "# Modelling of Cognitive Processes (MCP)\n",
    "\n",
    "[![Lines](https://img.shields.io/tokei/lines/github/CogComNeuroSci/modeling-master?style=plastic?color=yellowgreen)](https://img.shields.io/tokei/lines/github/CogComNeuroSci/modeling-master?style=plastic?color=yellowgreen)\n",
    "[![Commits](https://img.shields.io/github/last-commit/CogComNeuroSci/modeling-master?style=plastic)](https://img.shields.io/github/last-commit/CogComNeuroSci/modeling-master?style=plastic)\n",
    "[![Contributors](https://img.shields.io/github/contributors/CogComNeuroSci/modeling-master?style=plastic)](https://img.shields.io/github/contributors/CogComNeuroSci/modeling-master?style=plastic)"
   ]
  },
  {
   "cell_type": "markdown",
   "metadata": {},
   "source": [
    "## Overview\n",
    "\n",
    "This root folder contains most of the code used for the MCP course (1 Master Exp. Psych. Ghent University) for the last three academic years (18-19; 19-20; 20-21)."
   ]
  },
  {
   "cell_type": "markdown",
   "metadata": {},
   "source": [
    "## Organization\n",
    "\n",
    "Each folder is named of the academic year it is used in. Note that for AY 2020-2021 two folders are avaiable. <mark>Students enrolled in the MCP course in AY 20-21 should work with the code stored in the \"code by chapter\" folder, since this is the code that is used during the course</mark>. The folder \"MCP code new version\" contains similar code, but is organized is a slightly different fashion.\n",
    "\n",
    "For the previous academic years everything concerning organization is explained in their specific README files.\n",
    "\n",
    "If you have questions, you can ask your question on the [Ufora forum](https://ufora.ugent.be/d2l/home) or via mail (see below). The question on the forum is preferred since everyone can profit from this."
   ]
  },
  {
   "cell_type": "markdown",
   "metadata": {},
   "source": [
    "## Programming environment   \n",
    "\n",
    "We have used various programs in the MCP course, all relying on Python 3.\n",
    "\n",
    "- AY 18-19: scikit-learn and scipy\n",
    "- AY 19-20: scikit-learn and scipy\n",
    "- AY 20-21: TensorFlow 1\n",
    "\n",
    "Note that we always worked with Anaconda via virtual environments. Our preferred editor was Spyder."
   ]
  },
  {
   "cell_type": "markdown",
   "metadata": {},
   "source": [
    "## Contact\n",
    "\n",
    "- prof. Tom Verguts\n",
    "    * [mail](mailto:Tom.Verguts@UGent.be)\n",
    "    * [web entry](https://www.cogcomneurosci.com/about/#principal-investigator)\n",
    "- dr. Mehdi Senoussi\n",
    "    * [mail](mailto:Mehdi.Senoussi@UGent.be)\n",
    "    * [web entry](https://www.cogcomneurosci.com/about/#mehdi-senoussi)\n",
    "- Pieter Huycke  \n",
    "    * [mail](mailto:Pieter.Huycke@UGent.be)\n",
    "    * [web entry](https://www.cogcomneurosci.com/about/#pieter-huycke)\n",
    "\n",
    "[Lab website]: https://cogcomneurosci.com/"
   ]
  },
  {
   "cell_type": "markdown",
   "metadata": {},
   "source": [
    "**Last edit: 11-12-2020**"
   ]
  }
 ],
 "metadata": {
  "kernelspec": {
   "display_name": "Python 3",
   "language": "python",
   "name": "python3"
  },
  "language_info": {
   "codemirror_mode": {
    "name": "ipython",
    "version": 3
   },
   "file_extension": ".py",
   "mimetype": "text/x-python",
   "name": "python",
   "nbconvert_exporter": "python",
   "pygments_lexer": "ipython3",
   "version": "3.7.4"
  }
 },
 "nbformat": 4,
 "nbformat_minor": 2
}
