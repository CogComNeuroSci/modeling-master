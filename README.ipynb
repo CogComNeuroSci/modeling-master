{
 "cells": [
  {
   "cell_type": "markdown",
   "metadata": {},
   "source": [
    "# MCP (2020 - 2021)\n",
    "\n",
    "[![Lines](https://img.shields.io/tokei/lines/github/CogComNeuroSci/modeling-master?style=plastic?color=yellowgreen)](https://img.shields.io/tokei/lines/github/CogComNeuroSci/modeling-master?style=plastic?color=yellowgreen)\n",
    "[![Commits](https://img.shields.io/github/last-commit/CogComNeuroSci/modeling-master?style=plastic)](https://img.shields.io/github/last-commit/CogComNeuroSci/modeling-master?style=plastic)\n",
    "[![Contributors](https://img.shields.io/github/contributors/CogComNeuroSci/modeling-master?style=plastic)](https://img.shields.io/github/contributors/CogComNeuroSci/modeling-master?style=plastic)"
   ]
  },
  {
   "cell_type": "markdown",
   "metadata": {},
   "source": [
    "## Overview\n",
    "\n",
    "This folder contains the code used in the MCP course (1 Master Exp. Psych. Ghent University) during AY 2020-2021. Note that this folder contains scripts that were used during the theoretical sessions. All scripts that were used in the practical sessions, or were used as start scripts for the tests, can be found on [Ufora](https://ufora.ugent.be/d2l/home) > MCP > Content."
   ]
  },
  {
   "cell_type": "markdown",
   "metadata": {},
   "source": [
    "## Organization\n",
    "\n",
    "The folders are organized according to chapter. The chapters line up with the MCP handbook.\n",
    "\n",
    "Note that if you have any questions regarding the code, you can contact us via [Ufora](https://ufora.ugent.be/d2l/home) > Ufora-tools > Discussions. There you can ask questions in the specific subforum. If your problem is of a personal nature, feel free to contact on of us via email (see below). Since prof. Verguts is responsible for this course, we encourage you to contact him immediately. Note that we encourage you to use the forum to other students can profit from your questions."
   ]
  },
  {
   "cell_type": "markdown",
   "metadata": {},
   "source": [
    "## Programming environment   \n",
    "\n",
    "In line with previous years, we rely heavily on Python 3 incorporated in the Anaconda environment.   \n",
    "Several modules are required to run the scripts written for this course, but the most important softwares are:\n",
    "\n",
    "- python 3 (*v. 3.7.9*)\n",
    "- anaconda 3 (*v. 4.9.1*)\n",
    "- TensorFlow 1 (*v. 1.14.0*)\n",
    "\n",
    "Note that we always work with Anaconda via virtual environments.   \n",
    "Our preferred editor is Spyder."
   ]
  },
  {
   "cell_type": "markdown",
   "metadata": {},
   "source": [
    "## Contact\n",
    "\n",
    "- prof. Tom Verguts\n",
    "    * [mail](mailto:Tom.Verguts@UGent.be)\n",
    "    * [web entry](https://www.cogcomneurosci.com/about/#principal-investigator)\n",
    "- dr. Mehdi Senoussi\n",
    "    * [mail](mailto:Mehdi.Senoussi@UGent.be)\n",
    "    * [web entry](https://www.cogcomneurosci.com/about/#mehdi-senoussi)\n",
    "- Pieter Huycke  \n",
    "    * [mail](mailto:Pieter.Huycke@UGent.be)\n",
    "    * [web entry](https://www.cogcomneurosci.com/about/#pieter-huycke)\n",
    "\n",
    "[Lab website]: https://cogcomneurosci.com/"
   ]
  },
  {
   "cell_type": "markdown",
   "metadata": {},
   "source": [
    "**Last edit: 11-12-2020**"
   ]
  }
 ],
 "metadata": {
  "kernelspec": {
   "display_name": "Python 3",
   "language": "python",
   "name": "python3"
  },
  "language_info": {
   "codemirror_mode": {
    "name": "ipython",
    "version": 3
   },
   "file_extension": ".py",
   "mimetype": "text/x-python",
   "name": "python",
   "nbconvert_exporter": "python",
   "pygments_lexer": "ipython3",
   "version": "3.7.4"
  }
 },
 "nbformat": 4,
 "nbformat_minor": 2
}
