{
 "cells": [
  {
   "cell_type": "markdown",
   "metadata": {},
   "source": [
    "# MCP - Modeling of Cognitive processes\n",
    "\n",
    "[![GitHub license](https://img.shields.io/apm/l/test.svg)](https://github.com/CogComNeuroSci/Pieter_H/blob/master/LICENSE)\n",
    "[![Deadline](https://img.shields.io/badge/Deadline-24%2F09%2F2019-red)](https://img.shields.io/badge/Deadline-24%2F09%2F2019-red)\n",
    "[![Maintained](https://img.shields.io/maintenance/yes/2019.svg)](https://img.shields.io/maintenance/yes/2019.svg)"
   ]
  },
  {
   "cell_type": "markdown",
   "metadata": {},
   "source": [
    "## Overview\n",
    "\n",
    "This is the GitHub repository used for organizing the code used in the 'Modeling of Cognitive processes' (MCP) course, supervised by Tom.\n",
    "The code is organized by academic year (AY).\n",
    "\n",
    "Other relevant information can be found:\n",
    "\n",
    "- on the [MCP google site][google_sites].\n",
    "- in the [course specification (vakfiche)][vakfiche].\n",
    "\n",
    "[google_sites]: https://sites.google.com/view/ugent-mcp-course/home\n",
    "[vakfiche]: https://studiegids.ugent.be/2019/EN/studiefiches/H002000.pdf"
   ]
  },
  {
   "cell_type": "markdown",
   "metadata": {},
   "source": [
    "## Used folder structure   \n",
    "\n",
    "In this paragraph, we will quickly explain the folder structure that is used in this repository.\n",
    "This folder organisation can be explored by going through the [AC 2019 - 2020 folder][AC2019_2020].\n",
    "\n",
    "[AC2019_2020]: https://github.com/CogComNeuroSci/modeling-master/tree/master/AY%202019%20-%202020\n",
    "\n",
    "---\n",
    "\n",
    "The folder is organized according to our current teaching schedule:\n",
    "\n",
    "- Lesson 01\n",
    "- Lesson 02\n",
    "- ...\n",
    "- Lesson 13\n",
    "\n",
    "Within each _lesson xx_ folder, one can find another folder.   \n",
    "Possible folder names are:\n",
    "\n",
    "- Chapter xx\n",
    "    - Which refers to the chapter in the _Modeling book_ the teacher will be talking about\n",
    "- Practical session\n",
    "    - Which indicates that this lesson will be used to let the students gain _practical experience_\n",
    "- Test x\n",
    "    - Which indicates that this folder contains scripts used for _testing_ our modeling students\n",
    "\n",
    "Finally, within each folder, another specific structure is enforced:\n",
    "\n",
    "- Chapter xx\n",
    "    - course examples:\n",
    "        - Contains code that is used during teaching, e.g. to show examples of certain modeling concepts\n",
    "- Practical session:\n",
    "    - course examples:\n",
    "        - Contains code that is used during teaching, e.g. to show examples of certain modeling concepts\n",
    "    - exercises\n",
    "        - Contains the scripts that the students will start with during the practical session\n",
    "    - solutions\n",
    "        - Contains the solutions to the aforementioned exercises\n",
    "- Test x:\n",
    "    - assignment\n",
    "        - Contains the code the students start with during the test\n",
    "    - solution\n",
    "        - Contains the solution to that specific test"
   ]
  },
  {
   "cell_type": "markdown",
   "metadata": {},
   "source": [
    "## Programming environment   \n",
    "\n",
    "### 2018 - 2019\n",
    "\n",
    "**Main software**\n",
    "\n",
    "- Python 3\n",
    "    \n",
    "#### Version control\n",
    "\n",
    "- Python 3\n",
    "    - **v3.7.3**\n",
    "- Anaconda\n",
    "    - **v4.7.5**\n",
    "- Spyder\n",
    "    - **v3.3.6**\n",
    "\n",
    "#### Useful links\n",
    "\n",
    "- [Python 3.0 release page][py3]\n",
    "- The most recent version of Anaconda can be found [here][anaconda]\n",
    "\n",
    "[py3]: https://www.python.org/download/releases/3.0/\n",
    "[anaconda]: https://www.anaconda.com/distribution/"
   ]
  },
  {
   "cell_type": "markdown",
   "metadata": {},
   "source": [
    "## Contact\n",
    "\n",
    "Responsible for this course:\n",
    "\n",
    "- Tom Verguts\n",
    "- Mehdi Senoussi\n",
    "- Pieter Huycke  \n",
    "\n",
    "[Labsite]: https://cogcomneurosci.com/\n",
    "\n",
    "---\n",
    "\n",
    "[Ghent University][UGent]   \n",
    "[Faculty of Psychology and Educational Sciences][Faculty]  \n",
    "[Department of Experimental Psychology][Department]  \n",
    "\n",
    "[UGent]:      https://www.ugent.be/en\n",
    "[Faculty]:    https://www.ugent.be/pp/en\n",
    "[Department]: https://www.ugent.be/pp/experimentele-psychologie/en/research\n",
    "\n",
    "Henri Dunantlaan 2  \n",
    "B-9000 Gent"
   ]
  },
  {
   "cell_type": "markdown",
   "metadata": {},
   "source": [
    "**Last edit: 01-08-2019**"
   ]
  }
 ],
 "metadata": {
  "kernelspec": {
   "display_name": "Python 3",
   "language": "python",
   "name": "python3"
  },
  "language_info": {
   "codemirror_mode": {
    "name": "ipython",
    "version": 3
   },
   "file_extension": ".py",
   "mimetype": "text/x-python",
   "name": "python",
   "nbconvert_exporter": "python",
   "pygments_lexer": "ipython3",
   "version": "3.7.3"
  }
 },
 "nbformat": 4,
 "nbformat_minor": 2
}
